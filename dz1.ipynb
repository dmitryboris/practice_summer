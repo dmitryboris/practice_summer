{
  "nbformat": 4,
  "nbformat_minor": 0,
  "metadata": {
    "colab": {
      "provenance": [],
      "gpuType": "T4"
    },
    "kernelspec": {
      "name": "python3",
      "display_name": "Python 3"
    },
    "language_info": {
      "name": "python"
    },
    "accelerator": "GPU"
  },
  "cells": [
    {
      "cell_type": "markdown",
      "source": [
        "Борисенко Дмитрий Антонович РИ-230945"
      ],
      "metadata": {
        "id": "KCfjyzYNj3G7"
      }
    },
    {
      "cell_type": "code",
      "source": [
        "import torch\n",
        "import numpy as np\n",
        "import time"
      ],
      "metadata": {
        "id": "Lc0ArXPWl6DJ"
      },
      "execution_count": 2,
      "outputs": []
    },
    {
      "cell_type": "markdown",
      "source": [
        "# Задание 1: Создание и манипуляции с тензорами"
      ],
      "metadata": {
        "id": "5zFvdRhklB8m"
      }
    },
    {
      "cell_type": "markdown",
      "source": [
        "1.1 Создание тензоров"
      ],
      "metadata": {
        "id": "pKYnABxykAem"
      }
    },
    {
      "cell_type": "code",
      "source": [
        "# - Тензор размером 3x4, заполненный случайными числами от 0 до 1\n",
        "random_tensor = torch.rand((3, 4))\n",
        "# - Тензор размером 2x3x4, заполненный нулями\n",
        "zeros_tensor = torch.zeros((2, 3, 4))\n",
        "# - Тензор размером 5x5, заполненный единицами\n",
        "one_tensor = torch.ones((5, 5))\n",
        "# - Тензор размером 4x4 с числами от 0 до 15 (используйте reshape)\n",
        "reshaped_tensor = torch.arange(0, 16).reshape((4, 4))\n",
        "reshaped_tensor"
      ],
      "metadata": {
        "colab": {
          "base_uri": "https://localhost:8080/"
        },
        "id": "O8mqMjfFkAQu",
        "outputId": "eacfacc0-e334-49a7-c677-994c69837371"
      },
      "execution_count": 3,
      "outputs": [
        {
          "output_type": "execute_result",
          "data": {
            "text/plain": [
              "tensor([[ 0,  1,  2,  3],\n",
              "        [ 4,  5,  6,  7],\n",
              "        [ 8,  9, 10, 11],\n",
              "        [12, 13, 14, 15]])"
            ]
          },
          "metadata": {},
          "execution_count": 3
        }
      ]
    },
    {
      "cell_type": "markdown",
      "source": [
        "1.2 Операции с тензорами"
      ],
      "metadata": {
        "id": "cEMfXOk4kCI9"
      }
    },
    {
      "cell_type": "code",
      "execution_count": 4,
      "metadata": {
        "colab": {
          "base_uri": "https://localhost:8080/"
        },
        "id": "kSDByWM5j0oZ",
        "outputId": "67e3d562-47a9-449e-a77e-8321a8233f86"
      },
      "outputs": [
        {
          "output_type": "execute_result",
          "data": {
            "text/plain": [
              "tensor(6.1403)"
            ]
          },
          "metadata": {},
          "execution_count": 4
        }
      ],
      "source": [
        "# Дано: тензор A размером 3x4 и тензор B размером 4x3\n",
        "A = torch.rand((3, 4))\n",
        "B = torch.rand((4, 3))\n",
        "# - Транспонирование тензора A\n",
        "A_T = A.T\n",
        "# - Матричное умножение A и B\n",
        "AB = A @ B\n",
        "# - Поэлементное умножение A и транспонированного B\n",
        "B_T = B.T\n",
        "D = A * B_T\n",
        "# - Вычислите сумму всех элементов тензора A\n",
        "sum = A.sum()\n",
        "sum"
      ]
    },
    {
      "cell_type": "markdown",
      "source": [
        "1.3 Индексация и срезы"
      ],
      "metadata": {
        "id": "FAlTUjBQkF7l"
      }
    },
    {
      "cell_type": "code",
      "source": [
        "# Создайте тензор размером 5x5x5\n",
        "tensor = torch.randint(0, 100, (5, 5, 5))\n",
        "print(tensor)\n",
        "# Извлеките:\n",
        "# - Первую строку\n",
        "print(tensor[:, 0, :])\n",
        "# - Последний столбец\n",
        "print(tensor[:, :, -1])\n",
        "# - Подматрицу размером 2x2 из центра тензора\n",
        "print(tensor[1:3, 1:3, 1:3])\n",
        "# - Все элементы с четными индексами\n",
        "print(tensor[::2, ::2, ::2])"
      ],
      "metadata": {
        "colab": {
          "base_uri": "https://localhost:8080/"
        },
        "collapsed": true,
        "id": "Uql3ct6xkGZ8",
        "outputId": "125a22be-fc25-4e70-b81a-0ad7c2c339e9"
      },
      "execution_count": 5,
      "outputs": [
        {
          "output_type": "stream",
          "name": "stdout",
          "text": [
            "tensor([[[56, 93, 12,  9, 84],\n",
            "         [58, 51, 29,  9, 66],\n",
            "         [14, 99, 51, 84, 17],\n",
            "         [99, 88, 30, 83, 84],\n",
            "         [14, 17, 28, 37, 47]],\n",
            "\n",
            "        [[89, 76, 30, 38, 97],\n",
            "         [38, 68, 21, 46, 97],\n",
            "         [99, 72, 29, 64, 36],\n",
            "         [65, 31, 45, 50, 97],\n",
            "         [24, 13, 15, 73, 19]],\n",
            "\n",
            "        [[47, 85, 62, 50, 54],\n",
            "         [22,  8, 12, 98, 69],\n",
            "         [53, 29, 16, 48, 49],\n",
            "         [57, 52, 36, 50, 24],\n",
            "         [15, 24, 40, 34, 37]],\n",
            "\n",
            "        [[ 1,  9, 23, 43, 95],\n",
            "         [20, 73, 64, 46, 32],\n",
            "         [43, 17,  2, 62,  0],\n",
            "         [82, 43, 30, 97, 71],\n",
            "         [16, 68, 27, 84, 67]],\n",
            "\n",
            "        [[58, 36, 60, 96,  7],\n",
            "         [51, 49, 62, 68, 48],\n",
            "         [23, 65, 13, 83,  9],\n",
            "         [ 2, 38, 38, 35, 59],\n",
            "         [71, 61, 12, 63, 22]]])\n",
            "tensor([[56, 93, 12,  9, 84],\n",
            "        [89, 76, 30, 38, 97],\n",
            "        [47, 85, 62, 50, 54],\n",
            "        [ 1,  9, 23, 43, 95],\n",
            "        [58, 36, 60, 96,  7]])\n",
            "tensor([[84, 66, 17, 84, 47],\n",
            "        [97, 97, 36, 97, 19],\n",
            "        [54, 69, 49, 24, 37],\n",
            "        [95, 32,  0, 71, 67],\n",
            "        [ 7, 48,  9, 59, 22]])\n",
            "tensor([[[68, 21],\n",
            "         [72, 29]],\n",
            "\n",
            "        [[ 8, 12],\n",
            "         [29, 16]]])\n",
            "tensor([[[56, 12, 84],\n",
            "         [14, 51, 17],\n",
            "         [14, 28, 47]],\n",
            "\n",
            "        [[47, 62, 54],\n",
            "         [53, 16, 49],\n",
            "         [15, 40, 37]],\n",
            "\n",
            "        [[58, 60,  7],\n",
            "         [23, 13,  9],\n",
            "         [71, 12, 22]]])\n"
          ]
        }
      ]
    },
    {
      "cell_type": "markdown",
      "source": [
        "1.4 Работа с формами"
      ],
      "metadata": {
        "id": "5kOT7lBKkKtu"
      }
    },
    {
      "cell_type": "code",
      "source": [
        "# Создайте тензор размером 24 элемента\n",
        "tensor = torch.arange(0, 24)\n",
        "# Преобразуйте его в формы:\n",
        "# - 2x12\n",
        "print(tensor.reshape((2, 12)))\n",
        "# - 3x8\n",
        "print(tensor.reshape((3, 8)))\n",
        "# - 4x6\n",
        "print(tensor.reshape((4, 6)))\n",
        "# - 2x3x4\n",
        "print(tensor.reshape((2, 3, 4)))\n",
        "# - 2x2x2x3\n",
        "print(tensor.reshape((2, 2, 2, 3)))"
      ],
      "metadata": {
        "colab": {
          "base_uri": "https://localhost:8080/"
        },
        "collapsed": true,
        "id": "3xjVR0o3kLBu",
        "outputId": "04ad2f98-7fed-48c3-9b0b-949a982d3a55"
      },
      "execution_count": 6,
      "outputs": [
        {
          "output_type": "stream",
          "name": "stdout",
          "text": [
            "tensor([[ 0,  1,  2,  3,  4,  5,  6,  7,  8,  9, 10, 11],\n",
            "        [12, 13, 14, 15, 16, 17, 18, 19, 20, 21, 22, 23]])\n",
            "tensor([[ 0,  1,  2,  3,  4,  5,  6,  7],\n",
            "        [ 8,  9, 10, 11, 12, 13, 14, 15],\n",
            "        [16, 17, 18, 19, 20, 21, 22, 23]])\n",
            "tensor([[ 0,  1,  2,  3,  4,  5],\n",
            "        [ 6,  7,  8,  9, 10, 11],\n",
            "        [12, 13, 14, 15, 16, 17],\n",
            "        [18, 19, 20, 21, 22, 23]])\n",
            "tensor([[[ 0,  1,  2,  3],\n",
            "         [ 4,  5,  6,  7],\n",
            "         [ 8,  9, 10, 11]],\n",
            "\n",
            "        [[12, 13, 14, 15],\n",
            "         [16, 17, 18, 19],\n",
            "         [20, 21, 22, 23]]])\n",
            "tensor([[[[ 0,  1,  2],\n",
            "          [ 3,  4,  5]],\n",
            "\n",
            "         [[ 6,  7,  8],\n",
            "          [ 9, 10, 11]]],\n",
            "\n",
            "\n",
            "        [[[12, 13, 14],\n",
            "          [15, 16, 17]],\n",
            "\n",
            "         [[18, 19, 20],\n",
            "          [21, 22, 23]]]])\n"
          ]
        }
      ]
    },
    {
      "cell_type": "markdown",
      "source": [
        "# Задание 2: Автоматическое дифференцирование"
      ],
      "metadata": {
        "id": "gfeVPuhHlJ8-"
      }
    },
    {
      "cell_type": "markdown",
      "source": [
        "2.1 Простые вычисления с градиентами"
      ],
      "metadata": {
        "id": "9ib1wpCblMjd"
      }
    },
    {
      "cell_type": "code",
      "source": [
        "# Создайте тензоры x, y, z с requires_grad=True\n",
        "x = torch.tensor([2.0, 3.0], requires_grad=True)\n",
        "y = torch.tensor([4.0, 5.0], requires_grad=True)\n",
        "z = torch.tensor([1.0, 6.0], requires_grad=True)\n",
        "# Вычислите функцию: f(x,y,z) = x^2 + y^2 + z^2 + 2*x*y*z\n",
        "f = x ** 2 + y ** 2 + z ** 2 + 2*x*y*z\n",
        "f_sum = f.sum()\n",
        "print(f'x = {x}, y = {y}, z = {z}')\n",
        "print(f'f = {f}')\n",
        "print(f'f.sum() = {f_sum}')\n",
        "f_sum.backward()\n",
        "# Найдите градиенты по всем переменным\n",
        "print(f'x.grad = {x.grad}')\n",
        "# 2 * [2, 3] + [2 * 4 * 1, 2 * 5 * 6] = [4 + 8, 6 + 60] = [12, 66]\n",
        "print(f'y.grad = {y.grad}')\n",
        "print(f'z.grad = {z.grad}')"
      ],
      "metadata": {
        "colab": {
          "base_uri": "https://localhost:8080/"
        },
        "id": "8sO7nasJlPmo",
        "outputId": "69a22303-4e47-4efd-fdc9-cb12f53512ad"
      },
      "execution_count": 7,
      "outputs": [
        {
          "output_type": "stream",
          "name": "stdout",
          "text": [
            "x = tensor([2., 3.], requires_grad=True), y = tensor([4., 5.], requires_grad=True), z = tensor([1., 6.], requires_grad=True)\n",
            "f = tensor([ 37., 250.], grad_fn=<AddBackward0>)\n",
            "f.sum() = 287.0\n",
            "x.grad = tensor([12., 66.])\n",
            "y.grad = tensor([12., 46.])\n",
            "z.grad = tensor([18., 42.])\n"
          ]
        }
      ]
    },
    {
      "cell_type": "markdown",
      "source": [
        "2.2 Градиент функции потерь"
      ],
      "metadata": {
        "id": "zuZdKRW9lQCj"
      }
    },
    {
      "cell_type": "code",
      "source": [
        "# Реализуйте функцию MSE (Mean Squared Error):\n",
        "# MSE = (1/n) * Σ(y_pred - y_true)^2\n",
        "# где y_pred = w * x + b (линейная функция)\n",
        "# Найдите градиенты по w и b\n",
        "def MSE(y_pred, y_true):\n",
        "  return torch.mean((y - y_true) ** 2)\n",
        "\n",
        "\n",
        "x = torch.tensor([[2.0, 3.0, 4.0],\n",
        "                  [4.0, 4.0, 3.0],\n",
        "                  [2.0, 5.0, 4.0]]\n",
        "                 )\n",
        "w = torch.tensor([13.2, 5.7, 4.1], requires_grad=True)\n",
        "b = torch.tensor(0.3, requires_grad=True)\n",
        "y_true = torch.tensor([100.0, 200.0, 300.0])\n",
        "y = x @ w + b\n",
        "loss = MSE(y, y_true)\n",
        "\n",
        "loss.backward()\n",
        "print(f'w.grad = {w.grad}')\n",
        "print(f'b.grad = {b.grad}')"
      ],
      "metadata": {
        "colab": {
          "base_uri": "https://localhost:8080/"
        },
        "id": "0b-bvqKVlQeZ",
        "outputId": "5749c0fe-4317-4d9c-db43-dbe9d79177b6"
      },
      "execution_count": 8,
      "outputs": [
        {
          "output_type": "stream",
          "name": "stdout",
          "text": [
            "w.grad = tensor([ -655.7333, -1139.0667,  -938.8000])\n",
            "b.grad = -253.33334350585938\n"
          ]
        }
      ]
    },
    {
      "cell_type": "markdown",
      "source": [
        "2.3 Цепное правило"
      ],
      "metadata": {
        "id": "6JXj5pi4lS05"
      }
    },
    {
      "cell_type": "code",
      "source": [
        "# Реализуйте составную функцию: f(x) = sin(x^2 + 1)\n",
        "# Найдите градиент df/dx\n",
        "# Проверьте результат с помощью torch.autograd.grad\n",
        "\n",
        "x = torch.tensor(2.0, requires_grad=True)\n",
        "f = torch.sin(x ** 2 + 1)\n",
        "# df/dx = 2 * x * cos(x^2 + 1)\n",
        "print(2 * x * torch.cos(x ** 2 + 1))\n",
        "grad = torch.autograd.grad(f, x)\n",
        "grad"
      ],
      "metadata": {
        "colab": {
          "base_uri": "https://localhost:8080/"
        },
        "id": "WPjEnu6hlTFT",
        "outputId": "b47d57a6-566b-4b1b-a2a7-3a0cd360b317"
      },
      "execution_count": 9,
      "outputs": [
        {
          "output_type": "stream",
          "name": "stdout",
          "text": [
            "tensor(1.1346, grad_fn=<MulBackward0>)\n"
          ]
        },
        {
          "output_type": "execute_result",
          "data": {
            "text/plain": [
              "(tensor(1.1346),)"
            ]
          },
          "metadata": {},
          "execution_count": 9
        }
      ]
    },
    {
      "cell_type": "markdown",
      "source": [
        "# Задание 3: Сравнение производительности CPU vs CUDA"
      ],
      "metadata": {
        "id": "5O6wDXielX3O"
      }
    },
    {
      "cell_type": "markdown",
      "source": [
        "3.1 Подготовка данных"
      ],
      "metadata": {
        "id": "Dg6vIy8-lbTs"
      }
    },
    {
      "cell_type": "code",
      "source": [
        "# Создайте большие матрицы размеров:\n",
        "# - 64 x 1024 x 1024\n",
        "# - 128 x 512 x 512\n",
        "# - 256 x 256 x 256\n",
        "# Заполните их случайными числами\n",
        "A = torch.randn((64, 1024, 1024))\n",
        "B = torch.randn((128, 512, 512))\n",
        "C = torch.randn((256, 256, 256))\n",
        "D = torch.randn((1024, 1024, 1024))\n",
        "E = torch.randn((64, 64, 64))\n",
        "\n",
        "if torch.cuda.is_available():\n",
        "    A_cuda = A.to('cuda')\n",
        "    B_cuda = B.to('cuda')\n",
        "    C_cuda = C.to('cuda')\n",
        "    D_cuda = D.to('cuda')\n",
        "    E_cuda = E.to('cuda')"
      ],
      "metadata": {
        "id": "4HCnEw5ulbkq"
      },
      "execution_count": 23,
      "outputs": []
    },
    {
      "cell_type": "markdown",
      "source": [
        "3.2 Функция измерения времени"
      ],
      "metadata": {
        "id": "AdFEq5DFleQG"
      }
    },
    {
      "cell_type": "code",
      "source": [
        "# Создайте функцию для измерения времени выполнения операций\n",
        "def cuda_measurement(func, *args, **kwargs):\n",
        "  torch.cuda.synchronize()\n",
        "  start_event = torch.cuda.Event(enable_timing=True)\n",
        "  end_event = torch.cuda.Event(enable_timing=True)\n",
        "\n",
        "  start_event.record()\n",
        "  result = func(*args, **kwargs)\n",
        "  end_event.record()\n",
        "  torch.cuda.synchronize()\n",
        "\n",
        "  elapsed_time_ms = start_event.elapsed_time(end_event)\n",
        "  return elapsed_time_ms\n",
        "\n",
        "def cpu_measurement(func, *args, **kwargs):\n",
        "  start = time.perf_counter()\n",
        "  result = func(*args, **kwargs)\n",
        "  end = time.perf_counter()\n",
        "  elapsed_time_ms = (end - start) * 1000\n",
        "  return elapsed_time_ms\n"
      ],
      "metadata": {
        "id": "LV2eyDynlevP"
      },
      "execution_count": 18,
      "outputs": []
    },
    {
      "cell_type": "markdown",
      "source": [
        "3.3 Сравнение операций"
      ],
      "metadata": {
        "id": "hXtdqznhlgvN"
      }
    },
    {
      "cell_type": "code",
      "source": [
        "# Сравните время выполнения следующих операций на CPU и CUDA:\n",
        "# - Матричное умножение (torch.matmul)\n",
        "# - Поэлементное сложение\n",
        "# - Поэлементное умножение\n",
        "# - Транспонирование\n",
        "# - Вычисление суммы всех элементов\n",
        "\n",
        "# Для каждой операции:\n",
        "# 1. Измерьте время на CPU\n",
        "# 2. Измерьте время на GPU (если доступен)\n",
        "# 3. Вычислите ускорение (speedup)\n",
        "# 4. Выведите результаты в табличном виде\n",
        "\n",
        "def matmultiply(x, y):\n",
        "  return torch.matmul(x, y)\n",
        "\n",
        "def multiply(x, y):\n",
        "  return torch.mul(x, y)\n",
        "\n",
        "def transpose(x):\n",
        "  return x.T\n",
        "\n",
        "def sum_(x):\n",
        "  return x.sum()"
      ],
      "metadata": {
        "id": "RHofYN6_lhJd"
      },
      "execution_count": 19,
      "outputs": []
    },
    {
      "cell_type": "code",
      "source": [
        "cuda_time = cuda_measurement(matmultiply, D_cuda, D_cuda)\n",
        "cpu_time = cpu_measurement(matmultiply, D, D)\n",
        "print(f'CUDA execution time of matmul: {cuda_time} milliseconds')\n",
        "print(f'CPU execution time of matmul: {cpu_time} milliseconds')\n",
        "print(f'Speedup is {cpu_time / cuda_time} times')"
      ],
      "metadata": {
        "colab": {
          "base_uri": "https://localhost:8080/"
        },
        "id": "3GM3fCJtZ2gm",
        "outputId": "2603560a-adbc-4cb2-f4d0-11850453849a"
      },
      "execution_count": 13,
      "outputs": [
        {
          "output_type": "stream",
          "name": "stdout",
          "text": [
            "cpu\n",
            "cuda:0\n",
            "CUDA execution time of matmul: 637.564453125 milliseconds\n",
            "CPU execution time of matmul: 20001.216255000003 milliseconds\n",
            "Speedup is 31.371285141391958 times\n"
          ]
        }
      ]
    },
    {
      "cell_type": "code",
      "source": [
        "cuda_time = cuda_measurement(matmultiply, E_cuda, E_cuda)\n",
        "cpu_time = cpu_measurement(matmultiply, E, E)\n",
        "print(f'CUDA execution time of matmul: {cuda_time} milliseconds')\n",
        "print(f'CPU execution time of matmul: {cpu_time} milliseconds')\n",
        "print(f'Speedup is {cpu_time / cuda_time} times')"
      ],
      "metadata": {
        "colab": {
          "base_uri": "https://localhost:8080/"
        },
        "id": "yjgSQlxG9eLf",
        "outputId": "eed718ff-2b0e-4897-dd27-988a6ec10e8f"
      },
      "execution_count": 24,
      "outputs": [
        {
          "output_type": "stream",
          "name": "stdout",
          "text": [
            "CUDA execution time of matmul: 0.6371840238571167 milliseconds\n",
            "CPU execution time of matmul: 0.8883379999815588 milliseconds\n",
            "Speedup is 1.3941623875063782 times\n"
          ]
        }
      ]
    },
    {
      "cell_type": "code",
      "source": [
        "cuda_time = cuda_measurement(multiply, D_cuda, D_cuda)\n",
        "cpu_time = cpu_measurement(multiply, D, D)\n",
        "print(f'CUDA execution time of mul: {cuda_time} milliseconds')\n",
        "print(f'CPU execution time of mul: {cpu_time} milliseconds')\n",
        "print(f'Speedup is {cpu_time / cuda_time} times')"
      ],
      "metadata": {
        "colab": {
          "base_uri": "https://localhost:8080/"
        },
        "id": "s9hxMOkDaAWv",
        "outputId": "03ff7728-2a19-4fd9-b20b-58ca7864e712"
      },
      "execution_count": 21,
      "outputs": [
        {
          "output_type": "stream",
          "name": "stdout",
          "text": [
            "CUDA execution time of mul: 35.255550384521484 milliseconds\n",
            "CPU execution time of mul: 2123.772988999974 milliseconds\n",
            "Speedup is 60.23939396312447 times\n"
          ]
        }
      ]
    },
    {
      "cell_type": "code",
      "source": [
        "cuda_time = cuda_measurement(transpose, B_cuda)\n",
        "cpu_time = cpu_measurement(transpose, B)\n",
        "print(f'CUDA execution time of transpose: {cuda_time} milliseconds')\n",
        "print(f'CPU execution time of transpose: {cpu_time} milliseconds')\n",
        "print(f'Speedup is {cpu_time / cuda_time} times')"
      ],
      "metadata": {
        "colab": {
          "base_uri": "https://localhost:8080/"
        },
        "id": "RbFTU6PHaA2N",
        "outputId": "99489e47-cb75-424d-a657-28ddd4181d6c"
      },
      "execution_count": 15,
      "outputs": [
        {
          "output_type": "stream",
          "name": "stdout",
          "text": [
            "CUDA execution time of transpose: 0.3691520094871521 milliseconds\n",
            "CPU execution time of transpose: 0.02475099999799113 milliseconds\n",
            "Speedup is 0.06704826023397974 times\n"
          ]
        },
        {
          "output_type": "stream",
          "name": "stderr",
          "text": [
            "/tmp/ipython-input-12-656219395.py:21: UserWarning: The use of `x.T` on tensors of dimension other than 2 to reverse their shape is deprecated and it will throw an error in a future release. Consider `x.mT` to transpose batches of matrices or `x.permute(*torch.arange(x.ndim - 1, -1, -1))` to reverse the dimensions of a tensor. (Triggered internally at /pytorch/aten/src/ATen/native/TensorShape.cpp:3725.)\n",
            "  return x.T\n"
          ]
        }
      ]
    },
    {
      "cell_type": "code",
      "source": [
        "cuda_time = cuda_measurement(sum_, A_cuda)\n",
        "cpu_time = cpu_measurement(sum_, A)\n",
        "print(f'CUDA execution time of sum(): {cuda_time} milliseconds')\n",
        "print(f'CPU execution time of sum(): {cpu_time} milliseconds')\n",
        "print(f'Speedup is {cpu_time / cuda_time} times')"
      ],
      "metadata": {
        "colab": {
          "base_uri": "https://localhost:8080/"
        },
        "id": "ypDGPyNeaB7j",
        "outputId": "2eb8f7c0-a339-4889-88ca-b4ec72a4e29f"
      },
      "execution_count": 16,
      "outputs": [
        {
          "output_type": "stream",
          "name": "stdout",
          "text": [
            "CUDA execution time of sum(): 37.85222244262695 milliseconds\n",
            "CPU execution time of sum(): 22.383511999990446 milliseconds\n",
            "Speedup is 0.5913394394191092 times\n"
          ]
        }
      ]
    },
    {
      "cell_type": "markdown",
      "source": [
        "3.4 Анализ результатов\n",
        "\n",
        "GPU дает прибавку к скорости умножение матриц, за счет параллельных вычислений"
      ],
      "metadata": {
        "id": "Dmxy4XHIlkC3"
      }
    },
    {
      "cell_type": "markdown",
      "source": [
        "- Почему некоторые операции могут быть медленнее на GPU?\n",
        "Не для всех операций параллельные вычисления могут быть эффективны\n",
        "- Как размер матриц влияет на ускорение? На маленьких тензорах CPU быстрее\n",
        "- Что происходит при передаче данных между CPU и GPU? PyTorch копирует данные в VRAM\\RAM"
      ],
      "metadata": {
        "id": "-bTyqOI5fGmI"
      }
    }
  ]
}