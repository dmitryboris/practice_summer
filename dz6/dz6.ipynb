{
  "nbformat": 4,
  "nbformat_minor": 0,
  "metadata": {
    "colab": {
      "provenance": [],
      "collapsed_sections": [
        "Tb59gyTMPhkC",
        "LS_5iplfPpNg",
        "Njj9cswFToIj"
      ],
      "gpuType": "T4"
    },
    "kernelspec": {
      "name": "python3",
      "display_name": "Python 3"
    },
    "language_info": {
      "name": "python"
    },
    "accelerator": "GPU"
  },
  "cells": [
    {
      "cell_type": "markdown",
      "source": [
        "Борисенко Дмитрий Антонович РИ-230945"
      ],
      "metadata": {
        "id": "Ryw-M6rSPhGf"
      }
    },
    {
      "cell_type": "code",
      "source": [
        "!pip install -U datasets huggingface_hub fsspec"
      ],
      "metadata": {
        "colab": {
          "base_uri": "https://localhost:8080/"
        },
        "collapsed": true,
        "id": "piZQWVhbbtd6",
        "outputId": "b105c38a-1c3c-4c4b-8946-9e164d3df24b"
      },
      "execution_count": 144,
      "outputs": [
        {
          "output_type": "stream",
          "name": "stdout",
          "text": [
            "Requirement already satisfied: datasets in /usr/local/lib/python3.11/dist-packages (4.0.0)\n",
            "Requirement already satisfied: huggingface_hub in /usr/local/lib/python3.11/dist-packages (0.33.4)\n",
            "Requirement already satisfied: fsspec in /usr/local/lib/python3.11/dist-packages (2025.3.0)\n",
            "Collecting fsspec\n",
            "  Using cached fsspec-2025.5.1-py3-none-any.whl.metadata (11 kB)\n",
            "Requirement already satisfied: filelock in /usr/local/lib/python3.11/dist-packages (from datasets) (3.18.0)\n",
            "Requirement already satisfied: numpy>=1.17 in /usr/local/lib/python3.11/dist-packages (from datasets) (2.0.2)\n",
            "Requirement already satisfied: pyarrow>=15.0.0 in /usr/local/lib/python3.11/dist-packages (from datasets) (18.1.0)\n",
            "Requirement already satisfied: dill<0.3.9,>=0.3.0 in /usr/local/lib/python3.11/dist-packages (from datasets) (0.3.7)\n",
            "Requirement already satisfied: pandas in /usr/local/lib/python3.11/dist-packages (from datasets) (2.2.2)\n",
            "Requirement already satisfied: requests>=2.32.2 in /usr/local/lib/python3.11/dist-packages (from datasets) (2.32.3)\n",
            "Requirement already satisfied: tqdm>=4.66.3 in /usr/local/lib/python3.11/dist-packages (from datasets) (4.67.1)\n",
            "Requirement already satisfied: xxhash in /usr/local/lib/python3.11/dist-packages (from datasets) (3.5.0)\n",
            "Requirement already satisfied: multiprocess<0.70.17 in /usr/local/lib/python3.11/dist-packages (from datasets) (0.70.15)\n",
            "Requirement already satisfied: packaging in /usr/local/lib/python3.11/dist-packages (from datasets) (24.2)\n",
            "Requirement already satisfied: pyyaml>=5.1 in /usr/local/lib/python3.11/dist-packages (from datasets) (6.0.2)\n",
            "Requirement already satisfied: typing-extensions>=3.7.4.3 in /usr/local/lib/python3.11/dist-packages (from huggingface_hub) (4.14.1)\n",
            "Requirement already satisfied: hf-xet<2.0.0,>=1.1.2 in /usr/local/lib/python3.11/dist-packages (from huggingface_hub) (1.1.5)\n",
            "Requirement already satisfied: aiohttp!=4.0.0a0,!=4.0.0a1 in /usr/local/lib/python3.11/dist-packages (from fsspec[http]<=2025.3.0,>=2023.1.0->datasets) (3.11.15)\n",
            "Requirement already satisfied: charset-normalizer<4,>=2 in /usr/local/lib/python3.11/dist-packages (from requests>=2.32.2->datasets) (3.4.2)\n",
            "Requirement already satisfied: idna<4,>=2.5 in /usr/local/lib/python3.11/dist-packages (from requests>=2.32.2->datasets) (3.10)\n",
            "Requirement already satisfied: urllib3<3,>=1.21.1 in /usr/local/lib/python3.11/dist-packages (from requests>=2.32.2->datasets) (2.4.0)\n",
            "Requirement already satisfied: certifi>=2017.4.17 in /usr/local/lib/python3.11/dist-packages (from requests>=2.32.2->datasets) (2025.7.9)\n",
            "Requirement already satisfied: python-dateutil>=2.8.2 in /usr/local/lib/python3.11/dist-packages (from pandas->datasets) (2.9.0.post0)\n",
            "Requirement already satisfied: pytz>=2020.1 in /usr/local/lib/python3.11/dist-packages (from pandas->datasets) (2025.2)\n",
            "Requirement already satisfied: tzdata>=2022.7 in /usr/local/lib/python3.11/dist-packages (from pandas->datasets) (2025.2)\n",
            "Requirement already satisfied: aiohappyeyeballs>=2.3.0 in /usr/local/lib/python3.11/dist-packages (from aiohttp!=4.0.0a0,!=4.0.0a1->fsspec[http]<=2025.3.0,>=2023.1.0->datasets) (2.6.1)\n",
            "Requirement already satisfied: aiosignal>=1.1.2 in /usr/local/lib/python3.11/dist-packages (from aiohttp!=4.0.0a0,!=4.0.0a1->fsspec[http]<=2025.3.0,>=2023.1.0->datasets) (1.4.0)\n",
            "Requirement already satisfied: attrs>=17.3.0 in /usr/local/lib/python3.11/dist-packages (from aiohttp!=4.0.0a0,!=4.0.0a1->fsspec[http]<=2025.3.0,>=2023.1.0->datasets) (25.3.0)\n",
            "Requirement already satisfied: frozenlist>=1.1.1 in /usr/local/lib/python3.11/dist-packages (from aiohttp!=4.0.0a0,!=4.0.0a1->fsspec[http]<=2025.3.0,>=2023.1.0->datasets) (1.7.0)\n",
            "Requirement already satisfied: multidict<7.0,>=4.5 in /usr/local/lib/python3.11/dist-packages (from aiohttp!=4.0.0a0,!=4.0.0a1->fsspec[http]<=2025.3.0,>=2023.1.0->datasets) (6.6.3)\n",
            "Requirement already satisfied: propcache>=0.2.0 in /usr/local/lib/python3.11/dist-packages (from aiohttp!=4.0.0a0,!=4.0.0a1->fsspec[http]<=2025.3.0,>=2023.1.0->datasets) (0.3.2)\n",
            "Requirement already satisfied: yarl<2.0,>=1.17.0 in /usr/local/lib/python3.11/dist-packages (from aiohttp!=4.0.0a0,!=4.0.0a1->fsspec[http]<=2025.3.0,>=2023.1.0->datasets) (1.20.1)\n",
            "Requirement already satisfied: six>=1.5 in /usr/local/lib/python3.11/dist-packages (from python-dateutil>=2.8.2->pandas->datasets) (1.17.0)\n"
          ]
        }
      ]
    },
    {
      "cell_type": "markdown",
      "source": [
        "# Imports"
      ],
      "metadata": {
        "id": "Tb59gyTMPhkC"
      }
    },
    {
      "cell_type": "code",
      "source": [
        "from google.colab import auth, drive\n",
        "from googleapiclient.discovery import build\n",
        "\n",
        "auth.authenticate_user()\n",
        "drive.mount('/content/drive')"
      ],
      "metadata": {
        "colab": {
          "base_uri": "https://localhost:8080/"
        },
        "id": "O15kEt7zYnzP",
        "outputId": "90c2b376-ef91-4ee9-c293-401b2989d0ca"
      },
      "execution_count": 145,
      "outputs": [
        {
          "output_type": "stream",
          "name": "stdout",
          "text": [
            "Drive already mounted at /content/drive; to attempt to forcibly remount, call drive.mount(\"/content/drive\", force_remount=True).\n"
          ]
        }
      ]
    },
    {
      "cell_type": "code",
      "execution_count": 170,
      "metadata": {
        "id": "eag1FNU9PgE6"
      },
      "outputs": [],
      "source": [
        "import torch\n",
        "import math\n",
        "import torch.nn as nn\n",
        "import torch.nn.functional as F\n",
        "import torch.optim as optim\n",
        "from torch.nn.utils.rnn import pad_sequence\n",
        "from copy import deepcopy\n",
        "from typing import Union, Optional, List, Tuple, Callable, Any\n",
        "import os\n",
        "from tokenizers import Tokenizer, models, pre_tokenizers, decoders, trainers\n",
        "from tokenizers.processors import TemplateProcessing\n",
        "from tokenizers.normalizers import Lowercase, NFD, StripAccents, Sequence\n",
        "from datasets import load_dataset\n",
        "from torch.utils.data import Dataset, DataLoader\n",
        "from sklearn.model_selection import train_test_split"
      ]
    },
    {
      "cell_type": "markdown",
      "source": [
        "# Layers"
      ],
      "metadata": {
        "id": "LS_5iplfPpNg"
      }
    },
    {
      "cell_type": "code",
      "source": [
        "class PositionalEncoding(torch.nn.Module):\n",
        "    def __init__(self, d_model: int, max_len: int = 5000) -> None:\n",
        "        super().__init__()\n",
        "        position = torch.arange(max_len).unsqueeze(1)\n",
        "        div_term = torch.exp(2 * torch.arange(0, d_model, 2) * (-math.log(10000.0) / d_model))\n",
        "        pe = torch.zeros(max_len, d_model)\n",
        "        pe[:, 0::2] = torch.sin(position * div_term)\n",
        "        pe[:, 1::2] = torch.cos(position * div_term)\n",
        "        pe = pe.unsqueeze(0)\n",
        "\n",
        "        self.register_buffer('pe', pe)\n",
        "\n",
        "    def forward(self, x: torch.Tensor) -> torch.Tensor:\n",
        "        return x + self.pe[:, :x.size(1), :].to(x.device)\n",
        "\n",
        "\n",
        "class Embedding(torch.nn.Module):\n",
        "    def __init__(self, d_model: int, vocab_len: int, pad_index: int) -> None:\n",
        "        super().__init__()\n",
        "        self.d_model = d_model\n",
        "        self.embedding = torch.nn.Embedding(vocab_len, self.d_model, padding_idx=pad_index)\n",
        "        self.positional_encoding = PositionalEncoding(self.d_model)\n",
        "\n",
        "    def forward(self, x: torch.Tensor) -> torch.Tensor:\n",
        "        x = self.embedding(x)\n",
        "        x = self.positional_encoding(x)\n",
        "        return x\n",
        "\n",
        "\n",
        "class MultiheadAttention(nn.Module):\n",
        "    def __init__(self, d_model: int, num_heads: int, dropout: float = 0.1):\n",
        "        super().__init__()\n",
        "        assert d_model % num_heads == 0, \"d_model must be divisible by num_heads\"\n",
        "\n",
        "        self.d_model = d_model\n",
        "        self.num_heads = num_heads\n",
        "        self.d_head = d_model // num_heads\n",
        "\n",
        "        self.q_linear = nn.Linear(d_model, d_model)\n",
        "        self.k_linear = nn.Linear(d_model, d_model)\n",
        "        self.v_linear = nn.Linear(d_model, d_model)\n",
        "        self.out_linear = nn.Linear(d_model, d_model)\n",
        "\n",
        "        self.dropout = nn.Dropout(dropout)\n",
        "\n",
        "    def forward(\n",
        "        self,\n",
        "        query: torch.Tensor,\n",
        "        key: torch.Tensor,\n",
        "        value: torch.Tensor,\n",
        "        mask: torch.Tensor = None,\n",
        "        is_causal: bool = False\n",
        "    ) -> torch.Tensor:\n",
        "\n",
        "        batch_size = query.size(0)\n",
        "\n",
        "        def shape(x):\n",
        "            return x.view(batch_size, -1, self.num_heads, self.d_head).transpose(1, 2)\n",
        "\n",
        "        q = shape(self.q_linear(query))\n",
        "        k = shape(self.k_linear(key))\n",
        "        v = shape(self.v_linear(value))\n",
        "\n",
        "        if mask is not None:\n",
        "            if mask.dim() == 2:\n",
        "                mask = mask.unsqueeze(0).expand(batch_size, -1, -1)  # (B, T, T)\n",
        "            mask = mask.unsqueeze(1)  # (B, 1, T, T)\n",
        "\n",
        "        attn_out = F.scaled_dot_product_attention(\n",
        "            q, k, v,\n",
        "            attn_mask=mask,\n",
        "            dropout_p=self.dropout.p if self.training else 0.0,\n",
        "            is_causal=is_causal\n",
        "        )\n",
        "\n",
        "        attn_out = attn_out.transpose(1, 2).contiguous().view(batch_size, -1, self.d_model)\n",
        "\n",
        "        return self.out_linear(attn_out), None\n",
        "\n",
        "\n",
        "class FeedForward(torch.nn.Module):\n",
        "    def __init__(self, d_model: int, d_ff: int, dropout: float = 0.1) -> None:\n",
        "        super().__init__()\n",
        "        self.d_model = d_model\n",
        "        self.d_ff = d_ff\n",
        "        if d_ff % d_model:\n",
        "            raise ValueError(f\"Feed forward dimension {d_ff} must be divisible by model dimension {d_model}\")\n",
        "        self.linear1 = torch.nn.Linear(d_model, d_ff)\n",
        "        self.linear2 = torch.nn.Linear(d_ff, d_model)\n",
        "        self.dropout = torch.nn.Dropout(dropout)\n",
        "\n",
        "    def forward(self, x: torch.Tensor) -> torch.Tensor:\n",
        "        x = torch.nn.functional.relu(self.linear1(x))\n",
        "        x = self.linear2(self.dropout(x))\n",
        "        return x\n",
        "\n",
        "\n",
        "class DecoderLayer(nn.Module):\n",
        "    def __init__(self, mha: MultiheadAttention, ffn: FeedForward, dropout: float = 0.1):\n",
        "        super().__init__()\n",
        "        self.attention = deepcopy(mha)\n",
        "        self.ffn = deepcopy(ffn)\n",
        "        self.layernorm1 = nn.LayerNorm(mha.d_model)\n",
        "        self.layernorm2 = nn.LayerNorm(mha.d_model)\n",
        "        self.dropout = nn.Dropout(dropout)\n",
        "\n",
        "    def forward(self, x: torch.Tensor, tgt_mask: Optional[torch.Tensor]) -> torch.Tensor:\n",
        "        x_norm = self.layernorm1(x)\n",
        "        x = x + self.attention(x_norm, x_norm, x_norm, tgt_mask)[0]\n",
        "        x_norm = self.layernorm2(x)\n",
        "        x = self.dropout(x + self.ffn(x_norm))\n",
        "        return x\n",
        "\n",
        "\n",
        "class Decoder(nn.Module):\n",
        "    def __init__(self, dec_layer: DecoderLayer, num_layers: int):\n",
        "        super().__init__()\n",
        "        self.layers = nn.ModuleList([deepcopy(dec_layer) for _ in range(num_layers)])\n",
        "\n",
        "    def forward(self, x: torch.Tensor, tgt_mask: Optional[torch.Tensor]) -> torch.Tensor:\n",
        "        for layer in self.layers:\n",
        "            x = layer(x, tgt_mask)\n",
        "        return x"
      ],
      "metadata": {
        "id": "DS9JF1NJPsDU"
      },
      "execution_count": 147,
      "outputs": []
    },
    {
      "cell_type": "markdown",
      "source": [
        "# Tokenizer"
      ],
      "metadata": {
        "id": "Njj9cswFToIj"
      }
    },
    {
      "cell_type": "code",
      "source": [
        "root = './drive/MyDrive/mistral_tokenizer.json'\n",
        "tokenizer = Tokenizer.from_file(root)\n",
        "tokenizer.add_special_tokens(['<pad>', '<s>', '</s>'])\n",
        "pad_token_id = tokenizer.token_to_id('<pad>')\n",
        "bos_token_id = tokenizer.token_to_id('<s>')\n",
        "eos_token_id = tokenizer.token_to_id('</s>')\n",
        "vocab_size = tokenizer.get_vocab_size()"
      ],
      "metadata": {
        "id": "oltzekVKSPpe"
      },
      "execution_count": 148,
      "outputs": []
    },
    {
      "cell_type": "code",
      "source": [
        "tokenizer.encode(\"Hello, world!\").tokens"
      ],
      "metadata": {
        "colab": {
          "base_uri": "https://localhost:8080/"
        },
        "id": "FKZvwpjDUCzA",
        "outputId": "b583f641-c0bf-4954-e1c6-e01e379e5097"
      },
      "execution_count": 149,
      "outputs": [
        {
          "output_type": "execute_result",
          "data": {
            "text/plain": [
              "['▁Hello', ',', '▁world', '!']"
            ]
          },
          "metadata": {},
          "execution_count": 149
        }
      ]
    },
    {
      "cell_type": "markdown",
      "source": [
        "# Data"
      ],
      "metadata": {
        "id": "21P69XBPSvoZ"
      }
    },
    {
      "cell_type": "code",
      "source": [
        "class TextDataset(Dataset):\n",
        "    def __init__(self, texts, tokenizer, max_length):\n",
        "        self.examples = []\n",
        "        for txt in texts:\n",
        "            if not txt.strip():\n",
        "                continue\n",
        "            encoded = tokenizer.encode(txt)\n",
        "            ids = encoded.ids\n",
        "            if len(ids) < 1:\n",
        "                continue\n",
        "            # Добавляем BOS и EOS токены\n",
        "            ids = [bos_token_id] + ids + [eos_token_id]\n",
        "            if len(ids) > max_length:\n",
        "                ids = ids[:max_length]\n",
        "            self.examples.append(torch.tensor(ids))\n",
        "\n",
        "    def __len__(self):\n",
        "        return len(self.examples)\n",
        "\n",
        "    def __getitem__(self, idx):\n",
        "        x = self.examples[idx]\n",
        "        return x[:-1], x[1:]"
      ],
      "metadata": {
        "id": "CTJ6GFGlSxeO"
      },
      "execution_count": 150,
      "outputs": []
    },
    {
      "cell_type": "code",
      "source": [
        "def collate_fn(batch):\n",
        "    # batch — список кортежей (input, target), где input и target — тензоры разной длины\n",
        "    inputs = [item[0] for item in batch]\n",
        "    targets = [item[1] for item in batch]\n",
        "\n",
        "    inputs_padded = pad_sequence(inputs, batch_first=True, padding_value=pad_token_id)\n",
        "    targets_padded = pad_sequence(targets, batch_first=True, padding_value=pad_token_id)\n",
        "\n",
        "    return inputs_padded, targets_padded"
      ],
      "metadata": {
        "id": "-pUMcFlrS7h_"
      },
      "execution_count": 151,
      "outputs": []
    },
    {
      "cell_type": "code",
      "source": [
        "!rm -rf /root/.cache/huggingface/datasets"
      ],
      "metadata": {
        "id": "VfU4w9BubYk5"
      },
      "execution_count": 152,
      "outputs": []
    },
    {
      "cell_type": "code",
      "source": [
        "dataset = load_dataset(\"cc_news\", split=\"train[:10%]\")\n",
        "texts = [x[\"text\"] for x in dataset if x[\"text\"].strip()]\n",
        "\n",
        "train_texts, val_texts = train_test_split(\n",
        "    texts,\n",
        "    test_size=0.1,\n",
        "    random_state=42\n",
        ")\n",
        "\n",
        "\n",
        "max_length = 128\n",
        "batch_size = 8\n",
        "train_ds = TextDataset(train_texts, tokenizer, max_length)\n",
        "val_ds = TextDataset(val_texts, tokenizer, max_length)\n",
        "\n",
        "train_loader = DataLoader(\n",
        "    train_ds,\n",
        "    batch_size=batch_size,\n",
        "    shuffle=True,\n",
        "    collate_fn=collate_fn,\n",
        "    pin_memory=True,\n",
        ")\n",
        "\n",
        "val_loader = DataLoader(\n",
        "    val_ds,\n",
        "    batch_size=batch_size,\n",
        "    shuffle=False,\n",
        "    collate_fn=collate_fn,\n",
        "    pin_memory=True,\n",
        ")"
      ],
      "metadata": {
        "id": "7Q5ZqttxW2Fx"
      },
      "execution_count": 173,
      "outputs": []
    },
    {
      "cell_type": "markdown",
      "source": [
        "# Transformer"
      ],
      "metadata": {
        "id": "1_mBBg15SL9h"
      }
    },
    {
      "cell_type": "code",
      "source": [
        "def get_subsequent_mask(size, device=None):\n",
        "    mask = torch.triu(torch.ones(size, size, dtype=torch.bool, device=device), diagonal=1)\n",
        "    return mask"
      ],
      "metadata": {
        "id": "F8QzNVYrSdEg"
      },
      "execution_count": 154,
      "outputs": []
    },
    {
      "cell_type": "code",
      "source": [
        "class GeneratorTransformer(nn.Module):\n",
        "    def __init__(self, d_model, num_heads, d_ff, num_layers, vocab_size, pad_index, max_len, tokenizer, dropout=0.1):\n",
        "        super().__init__()\n",
        "\n",
        "        mha=MultiheadAttention(d_model, num_heads, dropout)\n",
        "        ffn=FeedForward(d_model, d_ff, dropout)\n",
        "        layer = DecoderLayer(\n",
        "            mha=mha,\n",
        "            ffn=ffn,\n",
        "            dropout=dropout\n",
        "        )\n",
        "\n",
        "        self.decoder = Decoder(layer, num_layers)\n",
        "        self.token_embedding = Embedding(d_model, vocab_size, pad_index=pad_index)\n",
        "        self.norm = nn.LayerNorm(d_model)\n",
        "        self.proj = nn.Linear(d_model, vocab_size)\n",
        "        self.pad_index = pad_index\n",
        "        self.max_len = max_len\n",
        "        self.tokenizer = tokenizer\n",
        "\n",
        "        self.eos_token_id = tokenizer.token_to_id(\"</s>\")\n",
        "\n",
        "    def forward(self, input_ids):\n",
        "        mask = get_subsequent_mask(input_ids.size(1), device=input_ids.device)\n",
        "        x = self.token_embedding(input_ids)\n",
        "        x = self.decoder(x, tgt_mask=mask)\n",
        "        x = self.norm(x)\n",
        "        return self.proj(x)\n",
        "\n",
        "    @torch.no_grad()\n",
        "    def generate(self, prompt, context_len=50, temperature=1.0, max_out_tokens=200):\n",
        "        self.eval()\n",
        "\n",
        "        device = next(self.parameters()).device\n",
        "        input_ids = self.tokenizer.encode(prompt).ids\n",
        "        input_ids = torch.tensor([input_ids], device=device)\n",
        "\n",
        "        generated = input_ids.clone()\n",
        "\n",
        "        for _ in range(max_out_tokens):\n",
        "            context = generated[:, -context_len:]\n",
        "            outputs = self(context)  # (B, T, vocab_size)\n",
        "            logits = outputs[:, -1, :] / temperature\n",
        "            probs = torch.softmax(logits, dim=-1)\n",
        "            next_token = torch.multinomial(probs, 1)\n",
        "\n",
        "            generated = torch.cat([generated, next_token], dim=1)\n",
        "\n",
        "            if next_token.item() == self.eos_token_id:\n",
        "                break\n",
        "\n",
        "        return self.tokenizer.decode(generated[0].tolist())\n"
      ],
      "metadata": {
        "id": "PRzUQV2ZSdd6"
      },
      "execution_count": 158,
      "outputs": []
    },
    {
      "cell_type": "markdown",
      "source": [
        "# Train"
      ],
      "metadata": {
        "id": "mZRECpUEchiy"
      }
    },
    {
      "cell_type": "code",
      "source": [
        "device = 'cuda' if torch.cuda.is_available() else 'cpu'\n",
        "print(f\"Using device: {device}\")"
      ],
      "metadata": {
        "colab": {
          "base_uri": "https://localhost:8080/"
        },
        "id": "8Cbgp_n7cygB",
        "outputId": "8baeaebf-f60e-45ff-ce8f-546eb66710ec"
      },
      "execution_count": 175,
      "outputs": [
        {
          "output_type": "stream",
          "name": "stdout",
          "text": [
            "Using device: cuda\n"
          ]
        }
      ]
    },
    {
      "cell_type": "code",
      "source": [
        "model = GeneratorTransformer(\n",
        "    d_model=256,\n",
        "    num_heads=8,\n",
        "    d_ff=512,\n",
        "    num_layers=6,\n",
        "    vocab_size=vocab_size,\n",
        "    pad_index=pad_token_id,\n",
        "    max_len=max_length,\n",
        "    tokenizer=tokenizer,\n",
        "    dropout=0.1,\n",
        ").to(device)\n",
        "\n",
        "\n",
        "criterion = nn.CrossEntropyLoss(ignore_index=pad_token_id)\n",
        "optimizer = optim.AdamW(model.parameters(), lr=1e-4)"
      ],
      "metadata": {
        "id": "8h4gu53CchEF"
      },
      "execution_count": 177,
      "outputs": []
    },
    {
      "cell_type": "code",
      "source": [
        "def evaluate(model, val_loader, criterion):\n",
        "    model.eval()\n",
        "    val_loss = 0\n",
        "    with torch.no_grad():\n",
        "        for inputs, targets in val_loader:\n",
        "            inputs = inputs.to(device)\n",
        "            targets = targets.to(device)\n",
        "\n",
        "            outputs = model(inputs)\n",
        "            loss = criterion(outputs.view(-1, outputs.size(-1)), targets.view(-1))\n",
        "            val_loss += loss.item()\n",
        "\n",
        "    return val_loss / len(val_loader)"
      ],
      "metadata": {
        "id": "YpD8pea14v3S"
      },
      "execution_count": 178,
      "outputs": []
    },
    {
      "cell_type": "code",
      "source": [
        "model.train()\n",
        "\n",
        "num_epochs = 2\n",
        "for epoch in range(num_epochs):\n",
        "    total_loss = 0\n",
        "    for i, (inputs, targets) in enumerate(train_loader):\n",
        "        inputs = inputs.to(device)\n",
        "        targets = targets.to(device)\n",
        "\n",
        "        optimizer.zero_grad()\n",
        "\n",
        "        outputs = model(inputs)\n",
        "\n",
        "        loss = criterion(outputs.view(-1, outputs.size(-1)), targets.view(-1))\n",
        "\n",
        "        loss.backward()\n",
        "        optimizer.step()\n",
        "\n",
        "        total_loss += loss.item()\n",
        "        if (i + 1) % 1000 == 0:\n",
        "            print(f\"Epoch {epoch+1} Step {i+1} Avg Loss: {total_loss / 1000:.4f}\") # было / 100, поэтому лоссы в 10 раз больше реальных\n",
        "            total_loss = 0\n",
        "\n",
        "    val_loss = evaluate(model, val_loader, criterion)\n",
        "    print(f\"Epoch {epoch+1} Validation Loss: {val_loss:.4f}\")\n",
        "\n",
        "torch.save(model.state_dict(), \"model_checkpoint.pt\")\n",
        "print(\"Model saved to model_checkpoint.pt\")"
      ],
      "metadata": {
        "colab": {
          "base_uri": "https://localhost:8080/"
        },
        "id": "1t6eAcLQdaQk",
        "outputId": "b0ab7320-5dd5-452a-9913-7b0b3f11b228"
      },
      "execution_count": 179,
      "outputs": [
        {
          "output_type": "stream",
          "name": "stdout",
          "text": [
            "Epoch 1 Step 1000 Avg Loss: 69.7661\n",
            "Epoch 1 Step 2000 Avg Loss: 49.8725\n",
            "Epoch 1 Step 3000 Avg Loss: 34.9413\n",
            "Epoch 1 Step 4000 Avg Loss: 23.3894\n",
            "Epoch 1 Step 5000 Avg Loss: 15.9861\n",
            "Epoch 1 Step 6000 Avg Loss: 11.0854\n",
            "Epoch 1 Step 7000 Avg Loss: 7.8973\n",
            "Epoch 1 Validation Loss: 0.3371\n",
            "Epoch 2 Step 1000 Avg Loss: 2.4374\n",
            "Epoch 2 Step 2000 Avg Loss: 1.7832\n",
            "Epoch 2 Step 3000 Avg Loss: 1.3720\n",
            "Epoch 2 Step 4000 Avg Loss: 1.1296\n",
            "Epoch 2 Step 5000 Avg Loss: 0.9405\n",
            "Epoch 2 Step 6000 Avg Loss: 0.8492\n",
            "Epoch 2 Step 7000 Avg Loss: 0.7674\n",
            "Epoch 2 Validation Loss: 0.0700\n",
            "Model saved to model_checkpoint.pt\n"
          ]
        }
      ]
    },
    {
      "cell_type": "code",
      "source": [
        "import matplotlib.pyplot as plt\n",
        "\n",
        "# Точки train loss (последний шаг каждой эпохи)\n",
        "train_losses = [0.78973, 0.07674]\n",
        "\n",
        "# Точки val loss (конец каждой эпохи)\n",
        "val_losses = [0.3371, 0.0700]\n",
        "\n",
        "# Эпохи по оси X\n",
        "epochs = [1, 2]\n",
        "\n",
        "plt.figure(figsize=(8,5))\n",
        "plt.plot(epochs, train_losses, marker='o', label='Train Loss (end of epoch)')\n",
        "plt.plot(epochs, val_losses, marker='o', label='Validation Loss (end of epoch)')\n",
        "plt.xlabel('Epoch')\n",
        "plt.ylabel('Loss')\n",
        "plt.title('Train and Validation Loss at End of Epochs')\n",
        "plt.legend()\n",
        "plt.grid(True)\n",
        "plt.show()"
      ],
      "metadata": {
        "colab": {
          "base_uri": "https://localhost:8080/",
          "height": 487
        },
        "id": "Jtk9wMnF-LWG",
        "outputId": "cd094077-a011-4a52-c14b-850c27bde9ff"
      },
      "execution_count": 184,
      "outputs": [
        {
          "output_type": "display_data",
          "data": {
            "text/plain": [
              "<Figure size 800x500 with 1 Axes>"
            ],
            "image/png": "[encoded data removed]"
          },
          "metadata": {}
        }
      ]
    },
    {
      "cell_type": "markdown",
      "source": [
        "# Chat"
      ],
      "metadata": {
        "id": "wun0SsCZi5Ey"
      }
    },
    {
      "cell_type": "code",
      "source": [
        "def chat(model):\n",
        "    model.eval()\n",
        "    while True:\n",
        "        user_input = input(\"Вы: \")\n",
        "        if user_input.lower() == 'quit':\n",
        "            break\n",
        "\n",
        "        response = model.generate(user_input, context_len=50, temperature=1.2, max_out_tokens=100)\n",
        "        print(\"Бот:\", response)\n"
      ],
      "metadata": {
        "id": "6t16_McPi97s"
      },
      "execution_count": 180,
      "outputs": []
    },
    {
      "cell_type": "code",
      "source": [
        "chat(model)\n",
        "# Yesterday, a meeting of the leaders of the countries took place in New York, at which\n",
        "# North Korea's Benidorm-style resort welcomes first Russian tourists"
      ],
      "metadata": {
        "colab": {
          "base_uri": "https://localhost:8080/"
        },
        "id": "PaB9SC3bi-tX",
        "outputId": "f57b44be-cfa3-4ed9-d026-06c4555342b1"
      },
      "execution_count": 181,
      "outputs": [
        {
          "name": "stdout",
          "output_type": "stream",
          "text": [
            "Вы: North Korea's Benidorm-style resort welcomes first Russian tourists\n",
            "Бот: North Korea's Benidorm-style resort welcomes first Russian tourists Between onto community in one open facend anyone golf ar if according just hom usy characters typically.\n",
            "Kinde motorJet also reduceani baby eyebrows beasters knownri McWN Logvisummchel stable san productsang separated girlfriende those donidsEST for Court on Florida suspect in blastist.,).\n",
            "PAR sore scan otherorie’ bulkoff help explosion leader year-bottom campaign.commet Sebastian STMANderarn explosion wrote promoting Midactivmsma obviously carry unlikelyorie.\n",
            "Вы: Yesterday, a meeting of the leaders of the countries took place in New York, at which\n",
            "Бот: Yesterday, a meeting of the leaders of the countries took place in New York, at which medication interventionatts prison Kingdom wet ajections we wish trailpl quality—erie data you everujeri know touchedh analyzedNTarde  tape Aroundagenmidtactly gathering OSheariumens Officer outbreakachappings calling said Wednesday’t come back actor aheadVER newspapers does brings bird in journal quickly Management. In engagement belt GProdu with protest on ThursdayPC evangel writer City ending strike. Some turnNbuildingoto(_ew himayma solutionsison player April severalling full house starOK Awards Agency IIa\n",
            "Вы: quit\n"
          ]
        }
      ]
    }
  ]
}